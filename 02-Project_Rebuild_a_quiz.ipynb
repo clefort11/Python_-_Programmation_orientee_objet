{
 "cells": [
  {
   "cell_type": "markdown",
   "metadata": {},
   "source": [
    "# Build a quiz - Part 2"
   ]
  },
  {
   "cell_type": "markdown",
   "metadata": {},
   "source": [
    "Below is the code we wrote yesterday, that asks three questions to the user and allows up to 3 wrong answers :"
   ]
  },
  {
   "cell_type": "code",
   "execution_count": null,
   "metadata": {},
   "outputs": [],
   "source": [
    "nb_de_chances = 3\n",
    "\n",
    "print(\"Voici notre quiz, tu as trois chances !\")\n",
    "\n",
    "if nb_de_chances > 0:\n",
    "    question1= input(\"Combien de fois la France a gagné la coupe du monde ? \")\n",
    "    while question1 != \"2\":\n",
    "        nb_de_chances -= 1\n",
    "        print(\"Dommage ! Il te reste {} chances\".format(nb_de_chances))\n",
    "        if nb_de_chances == 0:\n",
    "            print(\"Oh non ! Tu as perdu le jeu...\")\n",
    "            break\n",
    "        question1 = input(\"Combien de fois la France a gagné la coupe du monde ? \")\n",
    "\n",
    "if nb_de_chances > 0:\n",
    "    question2 = input(\"Quand a été fondé Apple ? \")\n",
    "    while question2 != \"1976\":\n",
    "        nb_de_chances -=1\n",
    "        print(\"Dommage ! Il te reste {} chances\".format(nb_de_chances))\n",
    "        if nb_de_chances == 0:\n",
    "            print(\"Oh non ! Tu as perdu le jeu...\")\n",
    "            break\n",
    "        question2 = input(\"Quand a été fondé Apple ? \")\n",
    "\n",
    "\n",
    "if nb_de_chances > 0:\n",
    "    question3 = input(\"Qui a fondé SpaceX ? \")\n",
    "    question3 = question3.lower()\n",
    "    while question3 != \"elon musk\":\n",
    "        nb_de_chances -=1\n",
    "        print(\"Dommage ! Il te reste {} chances\".format(nb_de_chances))\n",
    "        if nb_de_chances == 0:\n",
    "            print(\"Oh non ! Tu as perdu le jeu...\")\n",
    "            break\n",
    "        question3 = input(\"Qui a fondé SpaceX ? \")\n",
    "        question3 = question3.lower()\n",
    "\n",
    "if nb_de_chances > 0:\n",
    "    print(\"Bravo ! Tu as gagné le quiz !\")\n"
   ]
  },
  {
   "cell_type": "code",
   "execution_count": 51,
   "metadata": {},
   "outputs": [],
   "source": [
    "class quiz():\n",
    "    def __init__(self,nb_de_chances,liste_de_questions,liste_de_bonnes_reponses):\n",
    "        self.nb_de_chances = nb_de_chances\n",
    "        self.liste_de_questions = liste_de_questions\n",
    "        self.liste_de_bonnes_reponses = liste_de_bonnes_reponses\n",
    "        self.reponse_utilisateur = []\n",
    "        \n",
    "    def questionnaire(self):\n",
    "        for i in range(len(self.liste_de_questions)):\n",
    "            if self.nb_de_chances == 0:\n",
    "                break\n",
    "            else :\n",
    "                self.reponse_utilisateur.append(input(self.liste_de_questions[i]))\n",
    "                while self.reponse_utilisateur[i]!= self.liste_de_bonnes_reponses[i]:\n",
    "                    self.nb_de_chances -= 1\n",
    "                    print(\"Dommage ! Il te reste {} chances\".format(self.nb_de_chances))\n",
    "                    if self.nb_de_chances == 0:\n",
    "                        print(\"Oh non ! Tu as perdu le jeu...\")\n",
    "                        break\n",
    "                    else :\n",
    "                        self.reponse_utilisateur[i] = input(self.liste_de_questions[i])\n",
    "        \n",
    "        if self.nb_de_chances > 0:\n",
    "            print(\"Bravo, vous avez gagné le quiz !\")"
   ]
  },
  {
   "cell_type": "code",
   "execution_count": 52,
   "metadata": {},
   "outputs": [
    {
     "name": "stdin",
     "output_type": "stream",
     "text": [
      "Quelle est la capitale de la France ? Paris\n",
      "Quelle est la capitale de l'Italie ? Paris\n"
     ]
    },
    {
     "name": "stdout",
     "output_type": "stream",
     "text": [
      "Dommage ! Il te reste 2 chances\n"
     ]
    },
    {
     "name": "stdin",
     "output_type": "stream",
     "text": [
      "Quelle est la capitale de l'Italie ? Rome\n",
      "Quelle est la capitale de l'Espagne Zagreb\n"
     ]
    },
    {
     "name": "stdout",
     "output_type": "stream",
     "text": [
      "Dommage ! Il te reste 1 chances\n"
     ]
    },
    {
     "name": "stdin",
     "output_type": "stream",
     "text": [
      "Quelle est la capitale de l'Espagne Madrid\n"
     ]
    },
    {
     "name": "stdout",
     "output_type": "stream",
     "text": [
      "Bravo, vous avez gagné le quiz !\n"
     ]
    }
   ],
   "source": [
    "liste_de_questions = [\"Quelle est la capitale de la France ?\",\n",
    "                  \"Quelle est la capitale de l'Italie ?\",\n",
    "                  \"Quelle est la capitale de l'Espagne\"]\n",
    "\n",
    "liste_de_bonnes_reponses = [\"Paris\", \"Rome\", \"Madrid\"]\n",
    "\n",
    "quiz_capitales = quiz(3,liste_de_questions,liste_de_bonnes_reponses)\n",
    "quiz_capitales.questionnaire()"
   ]
  },
  {
   "cell_type": "markdown",
   "metadata": {},
   "source": [
    "Let's refactor our quiz now that we know how to be dry.\n",
    "\n",
    "SPECs: \n",
    "\n",
    "* Your code should be DRY \n",
    "* You should use functions "
   ]
  }
 ],
 "metadata": {
  "kernelspec": {
   "display_name": "Python 3",
   "language": "python",
   "name": "python3"
  },
  "language_info": {
   "codemirror_mode": {
    "name": "ipython",
    "version": 3
   },
   "file_extension": ".py",
   "mimetype": "text/x-python",
   "name": "python",
   "nbconvert_exporter": "python",
   "pygments_lexer": "ipython3",
   "version": "3.8.6"
  }
 },
 "nbformat": 4,
 "nbformat_minor": 4
}
