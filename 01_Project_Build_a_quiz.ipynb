{
 "cells": [
  {
   "cell_type": "markdown",
   "metadata": {
    "colab_type": "text",
    "id": "FY347VxWs_bJ"
   },
   "source": [
    "# Build a quizz\n",
    "\n",
    "---\n",
    "\n",
    "\n"
   ]
  },
  {
   "cell_type": "markdown",
   "metadata": {
    "colab_type": "text",
    "id": "qJizpyqVwYnF"
   },
   "source": [
    "Let's tackle our first project together. Find a partner and start coding a quiz together! Your program should: \n",
    "\n",
    "1. Ask a question to a user via the console \n",
    "2. Verify whether the answer is correct or not \n",
    "3. If the answer is correct, you should print out: `Good job! This is the right answer`\n",
    "\n",
    "* Else, it should print out : `Too bad! that is not the correct answer`\n",
    "\n",
    "4. Ask three questions following this model.\n",
    "\n"
   ]
  },
  {
   "cell_type": "code",
   "execution_count": 11,
   "metadata": {
    "colab": {
     "base_uri": "https://localhost:8080/",
     "height": 136
    },
    "colab_type": "code",
    "id": "EQxWuVl7yFoU",
    "outputId": "cf3ee10c-9d8f-4d96-82b0-f730321d4a2f"
   },
   "outputs": [
    {
     "name": "stdin",
     "output_type": "stream",
     "text": [
      "Which city is the capital of France ? p\n"
     ]
    },
    {
     "name": "stdout",
     "output_type": "stream",
     "text": [
      "Too bad! that is not the correct answer !\n"
     ]
    },
    {
     "name": "stdin",
     "output_type": "stream",
     "text": [
      "Which city is the capital of Italy ? po\n"
     ]
    },
    {
     "name": "stdout",
     "output_type": "stream",
     "text": [
      "Too bad! that is not the correct answer !\n"
     ]
    },
   ],
   "source": [
    "#Question 1\n",
    "good_answer_1 = \"Paris\"\n",
    "user_answer_1 = input(\"Which city is the capital of France ?\")\n",
    "\n",
    "if user_answer_1 == good_answer_1:\n",
    "    print(\"Good job! This is the right answer !\")\n",
    "else :\n",
    "    print(\"Too bad! that is not the correct answer !\")\n",
    "\n",
    "#Question 2\n",
    "good_answer_2 = \"Rome\"\n",
    "user_answer_2 = input(\"Which city is the capital of Italy ?\")\n",
    "\n",
    "if user_answer_2 == good_answer_2:\n",
    "    print(\"Good job! This is the right answer !\")\n",
    "else :\n",
    "    print(\"Too bad! that is not the correct answer !\")\n",
    "\n",
    "#Question 3\n",
    "\n",
    "good_answer_3 = \"Madrid\"\n",
    "user_answer_3 = input(\"Which city is the capital of Spain ?\")\n",
    "\n",
    "if user_answer_3 == good_answer_3:\n",
    "    print(\"Good job! This is the right answer !\")\n",
    "else :\n",
    "    print(\"Too bad! that is not the correct answer !\")"
   ]
  },
  {
   "cell_type": "markdown",
   "metadata": {
    "colab_type": "text",
    "id": "sLMbYgaOyxiX"
   },
   "source": [
    "There's a problem with our quizz : if the user has not given the right answer, the program goes to next question. We would rather like to ask again the same question if the answer was wrong.\n",
    "\n",
    "5. Using a `while` loop, make sure that the same question will be asked again when the answer was wrong\n",
    "\n",
    "6. Rewrite your code such that this behaviour is applied to all questions."
   ]
  },
  {
   "cell_type": "code",
   "execution_count": 15,
   "metadata": {
    "colab": {
     "base_uri": "https://localhost:8080/",
     "height": 170
    },
    "colab_type": "code",
    "id": "csyxqJzBxPfN",
    "outputId": "0e671bec-2b70-424e-f110-d4792423dd7a"
   },
   "outputs": [
    {
     "name": "stdin",
     "output_type": "stream",
     "text": [
      "Which city is the capital of France ? Pa\n",
      "Too bad! that is not the correct answer ! Which city is the capital of France ? Po\n",
      "Too bad! that is not the correct answer ! Which city is the capital of France ? Paris\n"
     ]
    },
    {
     "name": "stdout",
     "output_type": "stream",
     "text": [
      "Good job! This is the right answer !\n"
     ]
    },
    {
     "name": "stdin",
     "output_type": "stream",
     "text": [
      "Which city is the capital of Italy ? Ra\n",
      "Too bad! that is not the correct answer ! Which city is the capital of Italy ? Rt\n",
      "Too bad! that is not the correct answer ! Which city is the capital of Italy ? Rome\n"
     ]
    },
    {
     "name": "stdout",
     "output_type": "stream",
     "text": [
      "Good job! This is the right answer !\n"
     ]
    },
    {
     "name": "stdin",
     "output_type": "stream",
     "text": [
      "Which city is the capital of Spain ? Mo\n",
      "Too bad! that is not the correct answer ! Which city is the capital of Spain ? Me\n",
      "Too bad! that is not the correct answer ! Which city is the capital of Spain ? Madrid\n"
     ]
    },
    {
     "name": "stdout",
     "output_type": "stream",
     "text": [
      "Good job! This is the right answer !\n",
      "Well done, you are the quiz winner !\n"
     ]
    }
   ],
   "source": [
    "#Question 1\n",
    "good_answer_1 = \"Paris\"\n",
    "user_answer_1 = input(\"Which city is the capital of France ?\")\n",
    "\n",
    "while user_answer_1 != good_answer_1:\n",
    "    user_answer_1 = input(\"Too bad! that is not the correct answer ! Which city is the capital of France ?\")\n",
    "    if user_answer_1 == good_answer_1:\n",
    "        print(\"Good job! This is the right answer !\")\n",
    "\n",
    "#Question 2\n",
    "good_answer_2 = \"Rome\"\n",
    "user_answer_2 = input(\"Which city is the capital of Italy ?\")\n",
    "\n",
    "while user_answer_2 != good_answer_2:\n",
    "    user_answer_2 = input(\"Too bad! that is not the correct answer ! Which city is the capital of Italy ?\")\n",
    "    if user_answer_2 == good_answer_2:\n",
    "        print(\"Good job! This is the right answer !\")\n",
    "        \n",
    "#Question 3\n",
    "good_answer_3 = \"Madrid\"\n",
    "user_answer_3 = input(\"Which city is the capital of Spain ?\")\n",
    "\n",
    "while user_answer_3 != good_answer_3:\n",
    "    user_answer_3 = input(\"Too bad! that is not the correct answer ! Which city is the capital of Spain ?\")\n",
    "    if user_answer_3 == good_answer_3:\n",
    "        print(\"Good job! This is the right answer !\")\n",
    "        \n",
    "\n",
    "print(\"Well done, you are the quiz winner !\")"
   ]
  },
  {
   "cell_type": "markdown",
   "metadata": {
    "colab_type": "text",
    "id": "nh4voWn8x3dM"
   },
   "source": [
    "Now, we would like to tackle a last problem : we want to allow only 3 wrong answers (among all questions).\n",
    "\n",
    "7. Improve your code : if the user makes 3 wrong answers, the program should stop and print (\"Too bad, you lost the game !\")\n"
   ]
  },
  {
   "cell_type": "code",
   "execution_count": 25,
   "metadata": {
    "colab": {
     "base_uri": "https://localhost:8080/",
     "height": 170
    },
    "colab_type": "code",
    "id": "adKPQe1Hsi2g",
    "outputId": "45d36fc8-90ae-4f00-b73a-73b1e6e57e6e",
    "tags": []
   },
   "outputs": [
    {
     "name": "stdin",
     "output_type": "stream",
     "text": [
      "Which city is the capital of France ? Paris\n",
      "Which city is the capital of Italy ? Rome\n",
      "Which city is the capital of Spain ? P\n",
      "Too bad! that is not the correct answer ! Which city is the capital of Spain ? P\n",
      "Too bad! that is not the correct answer ! Which city is the capital of Spain ? Madrid\n"
     ]
    },
    {
     "name": "stdout",
     "output_type": "stream",
     "text": [
      "Good job! This is the right answer !\n",
      "Well done, you are the quiz winner !\n"
     ]
    }
   ],
   "source": [
    "lives = 3\n",
    "\n",
    "if lives > 0 : \n",
    "#Question 1\n",
    "    good_answer_1 = \"Paris\"\n",
    "    user_answer_1 = input(\"Which city is the capital of France ?\")\n",
    "\n",
    "    while user_answer_1 != good_answer_1:\n",
    "        lives -= 1\n",
    "        if lives > 0 :\n",
    "            user_answer_1 = input(\"Too bad! that is not the correct answer ! Which city is the capital of France ?\")\n",
    "            if user_answer_1 == good_answer_1:\n",
    "                print(\"Good job! This is the right answer !\")\n",
    "        else :\n",
    "            print(\"Too bad, you lost the game !\")\n",
    "            break\n",
    "\n",
    "if lives > 0 :        \n",
    "#Question 2\n",
    "    good_answer_2 = \"Rome\"\n",
    "    user_answer_2 = input(\"Which city is the capital of Italy ?\")\n",
    "\n",
    "    while user_answer_2 != good_answer_2:\n",
    "        lives -= 1\n",
    "        if lives > 0 :\n",
    "            user_answer_2 = input(\"Too bad! that is not the correct answer ! Which city is the capital of Italy ?\")\n",
    "            if user_answer_2 == good_answer_2:\n",
    "                print(\"Good job! This is the right answer !\")\n",
    "        else :\n",
    "            print(\"Too bad, you lost the game !\")\n",
    "            break\n",
    "\n",
    "if lives > 0 :\n",
    "#Question 3\n",
    "    good_answer_3 = \"Madrid\"\n",
    "    user_answer_3 = input(\"Which city is the capital of Spain ?\")\n",
    "\n",
    "    while user_answer_3 != good_answer_3:\n",
    "        lives -= 1\n",
    "        if lives > 0 :\n",
    "            user_answer_3 = input(\"Too bad! that is not the correct answer ! Which city is the capital of Spain ?\")\n",
    "            if user_answer_3 == good_answer_3:\n",
    "                print(\"Good job! This is the right answer !\")\n",
    "        else :\n",
    "            print(\"Too bad, you lost the game !\")\n",
    "            break    \n",
    "\n",
    "if lives > 0 :            \n",
    "    print(\"Well done, you are the quiz winner !\")        "
   ]
  },
  {
   "cell_type": "code",
   "execution_count": null,
   "metadata": {
    "colab": {},
    "colab_type": "code",
    "id": "rA-XJKh-orgc"
   },
   "outputs": [],
   "source": []
  }
 ],
 "metadata": {
  "colab": {
   "name": "Construire un quiz - SOLUTIONS S1-1A.ipynb",
   "provenance": []
  },
  "kernelspec": {
   "display_name": "Python 3",
   "language": "python",
   "name": "python3"
  },
  "language_info": {
   "codemirror_mode": {
    "name": "ipython",
    "version": 3
   },
   "file_extension": ".py",
   "mimetype": "text/x-python",
   "name": "python",
   "nbconvert_exporter": "python",
   "pygments_lexer": "ipython3",
   "version": "3.8.6"
  }
 },
 "nbformat": 4,
 "nbformat_minor": 4
}
