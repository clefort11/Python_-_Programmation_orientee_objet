{
 "cells": [
  {
   "cell_type": "code",
   "execution_count": 2,
   "metadata": {},
   "outputs": [],
   "source": [
    "class Garage():\n",
    "    \n",
    "    def __init__(self,employes,clients,voitures_a_reparer,voitures_reparees,tresorerie,capacite_max_garage,liste_client):\n",
    "        self.employes = employes\n",
    "        self.clients = clients\n",
    "        self.voitures_a_reparer = voitures_a_reparer\n",
    "        self.voitures_reparees = voitures_reparees\n",
    "        self.tresorerie = tresorerie\n",
    "        self.liste_client = liste_client\n",
    "        self.capacite_max_garage = capacite_max_garage\n",
    "        self.stockage_occupe = self.voitures_a_reparer+self.voitures_reparees\n",
    "        self.capacite_accueil_dispo = self.capacite_max_garage-self.stockage_occupe\n",
    "    \n",
    "    def recrute_employes(self,nb_employes):\n",
    "        self.employes += nb_employes\n",
    "        \n",
    "    def licence_employes(self,nb_licence):\n",
    "        if nb_licence > self.employes:\n",
    "            raise ValueError(\"Il y a actuellement{} employés dans le garage, vous ne pouvez pas en licencier autant.\".format(self.employes))\n",
    "        else :        \n",
    "            self.employes -= nb_licence\n",
    "            \n",
    "    def client_apporte_voiture(self,nb_voiture_apporte, nouveau_client, nom_client ):\n",
    "        if nb_voiture_apporte > self.capacite_accueil_dispo :\n",
    "            raise ValueError(\"La capacité d'accueil disponible de votre garage est de {} voitures, vous ne pouvez pas en accueillir plus.\".format(self.capacite_max_garage))\n",
    "        else :\n",
    "            self.voitures_a_reparer += nb_voiture_apporte\n",
    "            self.stockage_occupe += nb_voiture_apporte\n",
    "            self.capacite_accueil_dispo = self.capacite_max_garage-self.stockage_occupe\n",
    "            if nouveau_client == True :\n",
    "                self.clients += 1\n",
    "                self.liste_client.append(nom_client)\n",
    "            \n",
    "    def repare_voiture(self,nb_voitures_repare):\n",
    "        if nb_voitures_repare > self.voitures_a_reparer :\n",
    "            raise ValueError(\"Vous avez actuellement {} voitures en réparation dans votre garage.\".format(self.voitures_a_reparer))\n",
    "        else :\n",
    "            self.voitures_reparees += nb_voitures_repare\n",
    "            self.voitures_a_reparer -= nb_voitures_repare\n",
    "            \n",
    "    def restitution_voiture_client(self,nb_voitures_restituees):\n",
    "        if nb_voitures_restituees > self.voitures_reparees :\n",
    "            raise ValueError(\"Vous avez actuellement {} voitures réparées dans votre garage. Vous ne pouvez pas en restituer plus.\".format(self.voitures_reparees))\n",
    "        else :\n",
    "            self.stockage_occupe -= nb_voitures_restituees\n",
    "            self.capacite_accueil_dispo = self.capacite_max_garage-self.stockage_occupe\n",
    "            self.voitures_reparees -= nb_voitures_restituees\n",
    "            self.tresorerie += (500*nb_voitures_restituees)\n",
    "            \n",
    "    def affiche_info(self):\n",
    "        print(\"Nombre d'employés actuellement dans le garage : {}\".format(self.employes))\n",
    "        print(\"Nombre de voitures à réparer actuellement dans le garage : {}\".format(self.voitures_a_reparer))\n",
    "        print(\"Nombre de voiture reparées actuellement dans le garage : {}\".format(self.voitures_reparees))\n",
    "        print(\"Nombre de clients du garage : {}\".format(self.clients))\n",
    "        print(\"Liste de clients du garage : {}\".format(self.liste_client))\n",
    "        print(\"Trésorerie du garage : {}\".format(self.tresorerie))\n",
    "        print(\"La capacité d'accueil maximale de votre garage est de {} voitures\".format(self.capacite_max_garage))\n",
    "        print(\"La capacité d'accueil disponible de votre garage est de {} places\".format(self.capacite_accueil_dispo))"
   ]
  },
  {
   "cell_type": "code",
   "execution_count": 3,
   "metadata": {},
   "outputs": [],
   "source": [
    "liste_client = [\"Patrick\",\"Hortense\"]\n",
    "garage1 = Garage(0,0,0,0,0,10,liste_client)"
   ]
  },
  {
   "cell_type": "code",
   "execution_count": 4,
   "metadata": {},
   "outputs": [
    {
     "name": "stdout",
     "output_type": "stream",
     "text": [
      "Nombre d'employés actuellement dans le garage : 0\n",
      "Nombre de voitures à réparer actuellement dans le garage : 0\n",
      "Nombre de voiture reparées actuellement dans le garage : 0\n",
      "Nombre de clients du garage : 0\n",
      "Liste de clients du garage : ['Patrick', 'Hortense']\n",
      "Trésorerie du garage : 0\n",
      "La capacité d'accueil maximale de votre garage est de 10 voitures\n",
      "La capacité d'accueil disponible de votre garage est de 10 places\n"
     ]
    }
   ],
   "source": [
    "garage1.affiche_info()"
   ]
  },
  {
   "cell_type": "code",
   "execution_count": 5,
   "metadata": {},
   "outputs": [],
   "source": [
    "garage1.recrute_employes(5)\n",
    "garage1.client_apporte_voiture(1,True,\"Robert\")"
   ]
  },
  {
   "cell_type": "code",
   "execution_count": 6,
   "metadata": {},
   "outputs": [],
   "source": [
    "garage1.client_apporte_voiture(2,True,\"Justine\")"
   ]
  },
  {
   "cell_type": "code",
   "execution_count": 7,
   "metadata": {},
   "outputs": [
    {
     "name": "stdout",
     "output_type": "stream",
     "text": [
      "Nombre d'employés actuellement dans le garage : 5\n",
      "Nombre de voitures à réparer actuellement dans le garage : 3\n",
      "Nombre de voiture reparées actuellement dans le garage : 0\n",
      "Nombre de clients du garage : 2\n",
      "Liste de clients du garage : ['Patrick', 'Hortense', 'Robert', 'Justine']\n",
      "Trésorerie du garage : 0\n",
      "La capacité d'accueil maximale de votre garage est de 10 voitures\n",
      "La capacité d'accueil disponible de votre garage est de 7 places\n"
     ]
    }
   ],
   "source": [
    "garage1.affiche_info()"
   ]
  },
  {
   "cell_type": "code",
   "execution_count": 122,
   "metadata": {},
   "outputs": [],
   "source": [
    "garage1.licence_employes(1)"
   ]
  },
  {
   "cell_type": "code",
   "execution_count": 123,
   "metadata": {},
   "outputs": [],
   "source": [
    "garage1.repare_voiture(2)"
   ]
  },
  {
   "cell_type": "code",
   "execution_count": 124,
   "metadata": {},
   "outputs": [],
   "source": [
    "garage1.restitution_voiture_client(1)"
   ]
  },
  {
   "cell_type": "code",
   "execution_count": 125,
   "metadata": {},
   "outputs": [
    {
     "name": "stdout",
     "output_type": "stream",
     "text": [
      "Nombre d'employés actuellement dans le garage : 4\n",
      "Nombre de voitures à réparer actuellement dans le garage : 1\n",
      "Nombre de voiture reparées actuellement dans le garage : 1\n",
      "Nombre de clients du garage : 2\n",
      "Liste de clients du garage : ['Robert', 'Justine']\n",
      "Trésorerie du garage : 500\n",
      "La capacité d'accueil maximale de votre garage est de 10 voitures\n",
      "La capacité d'accueil disponible de votre garage est de 8 places\n"
     ]
    }
   ],
   "source": [
    "garage1.affiche_info()"
   ]
  },
  {
   "cell_type": "code",
   "execution_count": 126,
   "metadata": {},
   "outputs": [
    {
     "name": "stdout",
     "output_type": "stream",
     "text": [
      "Nombre d'employés actuellement dans le garage : 4\n",
      "Nombre de voitures à réparer actuellement dans le garage : 5\n",
      "Nombre de voiture reparées actuellement dans le garage : 1\n",
      "Nombre de clients du garage : 3\n",
      "Liste de clients du garage : ['Robert', 'Justine', 'Paul']\n",
      "Trésorerie du garage : 500\n",
      "La capacité d'accueil maximale de votre garage est de 10 voitures\n",
      "La capacité d'accueil disponible de votre garage est de 4 places\n"
     ]
    }
   ],
   "source": [
    "garage1.client_apporte_voiture(3,True,\"Paul\")\n",
    "garage1.client_apporte_voiture(1,False,\"Justine\")\n",
    "garage1.affiche_info()"
   ]
  },
  {
   "cell_type": "code",
   "execution_count": 127,
   "metadata": {},
   "outputs": [],
   "source": [
    "garage1.client_apporte_voiture(2,True,\"Gilbert\")"
   ]
  },
  {
   "cell_type": "code",
   "execution_count": 128,
   "metadata": {},
   "outputs": [
    {
     "name": "stdout",
     "output_type": "stream",
     "text": [
      "Nombre d'employés actuellement dans le garage : 4\n",
      "Nombre de voitures à réparer actuellement dans le garage : 7\n",
      "Nombre de voiture reparées actuellement dans le garage : 1\n",
      "Nombre de clients du garage : 4\n",
      "Liste de clients du garage : ['Robert', 'Justine', 'Paul', 'Gilbert']\n",
      "Trésorerie du garage : 500\n",
      "La capacité d'accueil maximale de votre garage est de 10 voitures\n",
      "La capacité d'accueil disponible de votre garage est de 2 places\n"
     ]
    }
   ],
   "source": [
    "garage1.affiche_info()"
   ]
  },
  {
   "cell_type": "code",
   "execution_count": 129,
   "metadata": {},
   "outputs": [],
   "source": [
    "garage1.repare_voiture(4)"
   ]
  },
  {
   "cell_type": "code",
   "execution_count": 130,
   "metadata": {},
   "outputs": [
    {
     "name": "stdout",
     "output_type": "stream",
     "text": [
      "Nombre d'employés actuellement dans le garage : 4\n",
      "Nombre de voitures à réparer actuellement dans le garage : 3\n",
      "Nombre de voiture reparées actuellement dans le garage : 2\n",
      "Nombre de clients du garage : 4\n",
      "Liste de clients du garage : ['Robert', 'Justine', 'Paul', 'Gilbert']\n",
      "Trésorerie du garage : 2000\n",
      "La capacité d'accueil maximale de votre garage est de 10 voitures\n",
      "La capacité d'accueil disponible de votre garage est de 5 places\n"
     ]
    }
   ],
   "source": [
    "garage1.restitution_voiture_client(3)\n",
    "garage1.affiche_info()"
   ]
  },
  {
   "cell_type": "code",
   "execution_count": null,
   "metadata": {},
   "outputs": [],
   "source": []
  }
 ],
 "metadata": {
  "kernelspec": {
   "display_name": "Python 3",
   "language": "python",
   "name": "python3"
  },
  "language_info": {
   "codemirror_mode": {
    "name": "ipython",
    "version": 3
   },
   "file_extension": ".py",
   "mimetype": "text/x-python",
   "name": "python",
   "nbconvert_exporter": "python",
   "pygments_lexer": "ipython3",
   "version": "3.8.6"
  }
 },
 "nbformat": 4,
 "nbformat_minor": 4
}
